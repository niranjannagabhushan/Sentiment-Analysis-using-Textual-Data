{
  "nbformat": 4,
  "nbformat_minor": 0,
  "metadata": {
    "colab": {
      "name": "NaiveBayesModulePython.ipynb",
      "provenance": []
    },
    "kernelspec": {
      "name": "python3",
      "display_name": "Python 3"
    },
    "language_info": {
      "name": "python"
    }
  },
  "cells": [
    {
      "cell_type": "code",
      "execution_count": null,
      "metadata": {
        "id": "z_8p1EaIuiLs"
      },
      "outputs": [],
      "source": [
        ""
      ]
    },
    {
      "cell_type": "markdown",
      "source": [
        "Question 1\n",
        "Sorting list of tuples\n",
        "You are provided with a list of tuples having three elements, name, age and salary. You are required to arrange the tuples in order of any of the three elements. The variable (name/age/salary) has to be decided by the second input, which is an integer (1 : name, 2 : Age, 3 : Salary). Make sure that the ordering should be ascending.\n",
        "\n",
        "\n",
        "\n",
        "Example:\n",
        "\n",
        "   Input 1 : [('Ram', 23 , 3000) , ('Mohan' , 22 , 4000 ) , ( 'Suresh' , 19 , 8000)]\n",
        "\n",
        "             2\n",
        "\n",
        "   Output 1:[ ( 'Suresh' , 19 , 8000) , ('Mohan' , 22 , 4000 ) ,('Ram', 23 , 3000)]"
      ],
      "metadata": {
        "id": "8Gsku7PYujx9"
      }
    },
    {
      "cell_type": "code",
      "source": [
        "import ast\n",
        "#Accept user input as string from stdin\n",
        "input_str = input()\n",
        "#ast.literal_eval raises an exception if the input isn't a valid Python datatype.\n",
        "#The string or node provided may only consist of the following Python literal structures: strings, numbers, tuples, lists, dicts, booleans, and None.\n",
        "input_list = ast.literal_eval(input_str)\n",
        "#Accept second input for selecting field for sorting\n",
        "sorting_choice = int(input())\n",
        "\n",
        "# Your code goes hereimport ast,sys\n",
        "\n",
        "print(sorted(input_list, key=lambda x: x[sorting_choice-1]))"
      ],
      "metadata": {
        "colab": {
          "base_uri": "https://localhost:8080/"
        },
        "id": "LUIvOVnguknN",
        "outputId": "83b1fff3-35f3-41b4-9b7b-769fb50507cd"
      },
      "execution_count": 1,
      "outputs": [
        {
          "output_type": "stream",
          "name": "stdout",
          "text": [
            "[('Ram', 23 , 2500) , ('Mohan' , 32 , 3700 ) , ( 'Suresh' , 28 , 7800)]\n",
            "3\n",
            "[('Ram', 23, 2500), ('Mohan', 32, 3700), ('Suresh', 28, 7800)]\n"
          ]
        }
      ]
    },
    {
      "cell_type": "markdown",
      "source": [
        ""
      ],
      "metadata": {
        "id": "IMNRggcbvE8B"
      }
    },
    {
      "cell_type": "markdown",
      "source": [
        "What's Missing?\n",
        "For a given list of integers in increasing order from n to m with no duplicates and common difference between two consecutive numbers being 1 except where the number is missing  with total  m-n integers in list, find out the missing number.\n",
        "\n",
        "Sample input : [ 8,9,10,12}\n",
        "Sample Output : 11"
      ],
      "metadata": {
        "id": "RaYEGYXUvEzx"
      }
    },
    {
      "cell_type": "code",
      "source": [
        "# Import the relevant libraries\n",
        "import ast,sys\n",
        "\n",
        "# Read the input list\n",
        "\n",
        "input_str = sys.stdin.read()\n",
        "input_list = ast.literal_eval(input_str)\n",
        "\n",
        "# Write your code here\n",
        "\n",
        "mn = min(input_list)   # Get the first no of the list\n",
        "mx= max(input_list)    # Get the last no of the list\n",
        "n= mx-mn+1\n",
        "total = n*(2*mn + n-1 )/2\n",
        "sum_of_input = sum(input_list) \n",
        "print(int(total - sum_of_input))"
      ],
      "metadata": {
        "id": "xngMBB5nvNNC"
      },
      "execution_count": null,
      "outputs": []
    },
    {
      "cell_type": "code",
      "source": [
        ""
      ],
      "metadata": {
        "id": "NGCxlbJKvTkZ"
      },
      "execution_count": null,
      "outputs": []
    },
    {
      "cell_type": "markdown",
      "source": [
        ""
      ],
      "metadata": {
        "id": "l3rs4-0OvV3Y"
      }
    },
    {
      "cell_type": "markdown",
      "source": [
        "Finding common letters in string\n",
        "You are provided two strings. You have to determine the common letters in the two strings. Make sure that the case difference is kept in mind. 'A' is not the same as 'a'. Also, note that the common letters are ordered in their alphabetical order.\n",
        "\n",
        "Examples:\n",
        "Input 1:\n",
        "    S1  = 'Hello'\n",
        "   S2  = 'World'\n",
        "Output 1:\n",
        "  The common letters are :\n",
        "   l\n",
        "  o\n",
        "\n",
        "Input 2:\n",
        "   S1 = 'abc'\n",
        "   S2 = 'def'\n",
        "Output 2:\n",
        "  There are no common letters between them"
      ],
      "metadata": {
        "id": "I2Xf_lxIvVdR"
      }
    },
    {
      "cell_type": "code",
      "source": [
        "# Take the strings as input\n",
        "\n",
        "s1=input()\n",
        "s2=input()\n",
        "\n",
        "# Write your code below\n",
        "\n",
        "a=list(set(s1)&set(s2))\n",
        "a.sort()\n",
        "if len(a) :\n",
        "    print('The common letters are:')\n",
        "    for i in a:\n",
        "        print(i)\n",
        "else:\n",
        "    print('There are no common letters between them')"
      ],
      "metadata": {
        "colab": {
          "base_uri": "https://localhost:8080/"
        },
        "id": "qGjLhzxYvZ-E",
        "outputId": "ec387bc6-ea26-485b-bf49-c4a9f0d17603"
      },
      "execution_count": 5,
      "outputs": [
        {
          "output_type": "stream",
          "name": "stdout",
          "text": [
            "Niranjan\n",
            "Nagabhushan\n",
            "The common letters are:\n",
            "N\n",
            "a\n",
            "n\n"
          ]
        }
      ]
    },
    {
      "cell_type": "markdown",
      "source": [
        ""
      ],
      "metadata": {
        "id": "XuV7tpLPvnvR"
      }
    },
    {
      "cell_type": "markdown",
      "source": [
        "Join String\n",
        "Given a list of strings, join them using the delimiter  '-' \n",
        "\n",
        "Sample Input : ['Accountability', 'and', 'Ownership']\n",
        "\n",
        "Sample Output : Accountability-and-Ownership"
      ],
      "metadata": {
        "id": "RS0IHKhqvniZ"
      }
    },
    {
      "cell_type": "code",
      "source": [
        "# Import the relevant libraries\n",
        "\n",
        "import ast,sys\n",
        "\n",
        "# Read the input list\n",
        "\n",
        "input_str = sys.stdin.read()\n",
        "input_list = ast.literal_eval(input_str)\n",
        "\n",
        "# Write your code here\n",
        "\n",
        "def join_string(input_list): \n",
        "  \n",
        "    # Join the string based on '-' delimiter \n",
        "    string = '-'.join(input_list) \n",
        "      \n",
        "    return string \n",
        "  \n",
        "# Driver Function \n",
        "if __name__ == '__main__': \n",
        "     # Join list of strings into one \n",
        "    new_string = join_string(input_list) \n",
        "    print(new_string) "
      ],
      "metadata": {
        "id": "CFq5RjMbvc2r"
      },
      "execution_count": null,
      "outputs": []
    },
    {
      "cell_type": "code",
      "source": [
        ""
      ],
      "metadata": {
        "id": "7s8rgcrhvsnz"
      },
      "execution_count": null,
      "outputs": []
    }
  ]
}